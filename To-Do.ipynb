{
 "cells": [
  {
   "cell_type": "markdown",
   "id": "2aba44fe-575a-4dbb-8f51-a01bd9e04e16",
   "metadata": {},
   "source": [
    "# <u>**QCP To-Do List**</u>"
   ]
  },
  {
   "cell_type": "markdown",
   "id": "0f91cc98-238d-4620-b4f1-115bb4275b6a",
   "metadata": {},
   "source": [
    "Last Updated: 23/02/25"
   ]
  },
  {
   "cell_type": "markdown",
   "id": "7a6be28c-551c-4de3-8878-98ce8124041a",
   "metadata": {},
   "source": [
    "## Building The Computer"
   ]
  },
  {
   "cell_type": "markdown",
   "id": "9f0d05f0-340b-4571-a04f-9dc23a554db1",
   "metadata": {},
   "source": [
    "<span style=\"font-size:16px;\"> \n",
    "\n",
    "    \n",
    "- Implement qubits\n",
    "- Implement Matrices\n",
    "- Implement Matrix Multiplication\n",
    "- Implement quantum gates\n",
    "  - H Gate\n",
    "  - Phase Gate\n",
    "  - C-Not Gate\n",
    "- Implement Tensor Product\n",
    "\n",
    "\n",
    "</span>"
   ]
  },
  {
   "cell_type": "markdown",
   "id": "80ddbf1a-394f-4bc3-a5cc-a43fca6b61b2",
   "metadata": {},
   "source": [
    "## Grover's Algorithm"
   ]
  },
  {
   "cell_type": "markdown",
   "id": "9604ec83-dd22-4cfa-b72d-9af8c1d98e03",
   "metadata": {},
   "source": [
    "## Shor's Algorithm"
   ]
  },
  {
   "cell_type": "markdown",
   "id": "61a11202-65f0-47c6-9b45-588472886f00",
   "metadata": {},
   "source": [
    "## Quantum Error Correction"
   ]
  }
 ],
 "metadata": {
  "kernelspec": {
   "display_name": "Python 3 (ipykernel)",
   "language": "python",
   "name": "python3"
  },
  "language_info": {
   "codemirror_mode": {
    "name": "ipython",
    "version": 3
   },
   "file_extension": ".py",
   "mimetype": "text/x-python",
   "name": "python",
   "nbconvert_exporter": "python",
   "pygments_lexer": "ipython3",
   "version": "3.11.5"
  }
 },
 "nbformat": 4,
 "nbformat_minor": 5
}
