{
 "cells": [
  {
   "cell_type": "markdown",
   "id": "5a5722b6-61f7-4dcd-9f7e-0b0b463b0d0b",
   "metadata": {},
   "source": [
    "## <u>Things we can do</u>"
   ]
  },
  {
   "cell_type": "code",
   "execution_count": 1,
   "id": "38dcb842-7b32-47e9-8177-f51181d7f681",
   "metadata": {},
   "outputs": [],
   "source": [
    "from gates import *\n",
    "from matrix_functions import *"
   ]
  },
  {
   "cell_type": "markdown",
   "id": "f70373a1-b303-4c8f-a2d8-8ae1bfae97f7",
   "metadata": {},
   "source": [
    "### Take tensor product of H gate with I gate"
   ]
  },
  {
   "cell_type": "code",
   "execution_count": 2,
   "id": "7b4c8c7b-0c55-4356-9455-dc064b05d3b9",
   "metadata": {},
   "outputs": [
    {
     "name": "stdout",
     "output_type": "stream",
     "text": [
      "[0.7071067811865475, 0.0, 0.7071067811865475, 0.0]\n",
      "[0.0, 0.7071067811865475, 0.0, 0.7071067811865475]\n",
      "[0.7071067811865475, 0.0, -0.7071067811865475, -0.0]\n",
      "[0.0, 0.7071067811865475, -0.0, -0.7071067811865475]\n",
      "\n"
     ]
    }
   ],
   "source": [
    "print(H_GATE().tensor_product(I_GATE()))"
   ]
  },
  {
   "cell_type": "markdown",
   "id": "ed1b59cd-bd66-4a86-8309-2007387f74b8",
   "metadata": {},
   "source": [
    "### Matrix multiplication of H gate with I gate"
   ]
  },
  {
   "cell_type": "code",
   "execution_count": 3,
   "id": "211fa6ec-c0ef-41cb-ad1d-14634b0034ec",
   "metadata": {},
   "outputs": [
    {
     "name": "stdout",
     "output_type": "stream",
     "text": [
      "[0.7071067811865475, 0.7071067811865475]\n",
      "[0.7071067811865475, -0.7071067811865475]\n",
      "\n"
     ]
    }
   ],
   "source": [
    "print(H_GATE().matrix_multiply(I_GATE()))"
   ]
  },
  {
   "cell_type": "markdown",
   "id": "05bcacf2-3c31-4e1f-8921-9696f2a07ad3",
   "metadata": {},
   "source": [
    "### Create CNOT_GATE with H & CV Gates"
   ]
  },
  {
   "cell_type": "code",
   "execution_count": 4,
   "id": "13f174f1-8abe-444e-94ee-6ba5b4f8a159",
   "metadata": {},
   "outputs": [
    {
     "name": "stdout",
     "output_type": "stream",
     "text": [
      "[(0.9999999999999998+0j), 0j, 0j, 0j]\n",
      "[0j, (0.9999999999999998+0j), 0j, 0j]\n",
      "[0j, 0j, 0j, (0.9999999999999998+0j)]\n",
      "[0j, 0j, (0.9999999999999998+0j), 0j]\n",
      "\n"
     ]
    }
   ],
   "source": [
    "CNOT_GATE = I_GATE().tensor_product(H_GATE()).matrix_multiply(CV_GATE()).matrix_multiply(CV_GATE()).matrix_multiply(I_GATE().tensor_product(H_GATE()))\n",
    "print(CNOT_GATE)"
   ]
  },
  {
   "cell_type": "markdown",
   "id": "1a3a94cf-5858-4a74-8175-1f05617da9bf",
   "metadata": {},
   "source": [
    "### Create state vector |000| & multiply with test matrix"
   ]
  },
  {
   "cell_type": "code",
   "execution_count": 5,
   "id": "e8f61c36-9d8c-4847-a6fd-f863c7401846",
   "metadata": {},
   "outputs": [
    {
     "name": "stdout",
     "output_type": "stream",
     "text": [
      "[0.4999999999999999 0.4999999999999999 0.0 0.0 0.4999999999999999 0.4999999999999999 0.0 0.0 ]\n"
     ]
    }
   ],
   "source": [
    "init_v = Vector([1, 0, 0 , 0, 0 , 0, 0, 0])\n",
    "test = H_GATE().tensor_product(I_GATE()).tensor_product(H_GATE())\n",
    "result = test.multiply_vector(init_v)\n",
    "print(result)"
   ]
  }
 ],
 "metadata": {
  "kernelspec": {
   "display_name": "Python 3 (ipykernel)",
   "language": "python",
   "name": "python3"
  },
  "language_info": {
   "codemirror_mode": {
    "name": "ipython",
    "version": 3
   },
   "file_extension": ".py",
   "mimetype": "text/x-python",
   "name": "python",
   "nbconvert_exporter": "python",
   "pygments_lexer": "ipython3",
   "version": "3.11.5"
  }
 },
 "nbformat": 4,
 "nbformat_minor": 5
}
