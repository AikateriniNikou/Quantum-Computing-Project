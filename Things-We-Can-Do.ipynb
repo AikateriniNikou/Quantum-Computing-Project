{
 "cells": [
  {
   "cell_type": "markdown",
   "id": "5a5722b6-61f7-4dcd-9f7e-0b0b463b0d0b",
   "metadata": {},
   "source": [
    "## <u>Things we can do</u>"
   ]
  },
  {
   "cell_type": "code",
   "execution_count": 1,
   "id": "38dcb842-7b32-47e9-8177-f51181d7f681",
   "metadata": {},
   "outputs": [],
   "source": [
    "from gates import *\n",
    "from matrix_functions import *"
   ]
  },
  {
   "cell_type": "markdown",
   "id": "f70373a1-b303-4c8f-a2d8-8ae1bfae97f7",
   "metadata": {},
   "source": [
    "### Take tensor product of H gate with I gate"
   ]
  },
  {
   "cell_type": "code",
   "execution_count": 2,
   "id": "7b4c8c7b-0c55-4356-9455-dc064b05d3b9",
   "metadata": {},
   "outputs": [
    {
     "name": "stdout",
     "output_type": "stream",
     "text": [
      "[0.7071067811865475, 0.0, 0.7071067811865475, 0.0]\n",
      "[0.0, 0.7071067811865475, 0.0, 0.7071067811865475]\n",
      "[0.7071067811865475, 0.0, -0.7071067811865475, -0.0]\n",
      "[0.0, 0.7071067811865475, -0.0, -0.7071067811865475]\n",
      "\n"
     ]
    }
   ],
   "source": [
    "print(H_GATE().mtensor(I_GATE()))"
   ]
  },
  {
   "cell_type": "markdown",
   "id": "ed1b59cd-bd66-4a86-8309-2007387f74b8",
   "metadata": {},
   "source": [
    "### Matrix multiplication of H gate with I gate"
   ]
  },
  {
   "cell_type": "code",
   "execution_count": 3,
   "id": "211fa6ec-c0ef-41cb-ad1d-14634b0034ec",
   "metadata": {},
   "outputs": [
    {
     "name": "stdout",
     "output_type": "stream",
     "text": [
      "[0.7071067811865475, 0.7071067811865475]\n",
      "[0.7071067811865475, -0.7071067811865475]\n",
      "\n"
     ]
    }
   ],
   "source": [
    "print(H_GATE().matrix_multiply(I_GATE()))"
   ]
  },
  {
   "cell_type": "markdown",
   "id": "05bcacf2-3c31-4e1f-8921-9696f2a07ad3",
   "metadata": {},
   "source": [
    "### Create CNOT_GATE with H & CV Gates"
   ]
  },
  {
   "cell_type": "code",
   "execution_count": 4,
   "id": "13f174f1-8abe-444e-94ee-6ba5b4f8a159",
   "metadata": {},
   "outputs": [
    {
     "name": "stdout",
     "output_type": "stream",
     "text": [
      "[(0.9999999999999998+0j), 0j, 0j, 0j]\n",
      "[0j, (0.9999999999999998+0j), 0j, 0j]\n",
      "[0j, 0j, 0j, (0.9999999999999998+0j)]\n",
      "[0j, 0j, (0.9999999999999998+0j), 0j]\n",
      "\n"
     ]
    }
   ],
   "source": [
    "CNOT_GATE = I_GATE().mtensor(H_GATE()).matrix_multiply(CV_GATE()).matrix_multiply(CV_GATE()).matrix_multiply(I_GATE().mtensor(H_GATE()))\n",
    "print(CNOT_GATE)"
   ]
  },
  {
   "cell_type": "markdown",
   "id": "1a3a94cf-5858-4a74-8175-1f05617da9bf",
   "metadata": {},
   "source": [
    "### Create state vector |000| & multiply with test matrix"
   ]
  },
  {
   "cell_type": "code",
   "execution_count": 5,
   "id": "e8f61c36-9d8c-4847-a6fd-f863c7401846",
   "metadata": {},
   "outputs": [
    {
     "name": "stdout",
     "output_type": "stream",
     "text": [
      "[0.4999999999999999, 0.4999999999999999, 0.0, 0.0, 0.4999999999999999, 0.4999999999999999, 0.0, 0.0]\n"
     ]
    }
   ],
   "source": [
    "init_v = Vector([1, 0, 0 , 0, 0 , 0, 0, 0])\n",
    "test = H_GATE().mtensor(I_GATE()).mtensor(H_GATE())\n",
    "result = test.multiply_vector(init_v)\n",
    "print(result)"
   ]
  },
  {
   "cell_type": "markdown",
   "id": "9bb35834-60b9-4f31-9203-9e8b6e798370",
   "metadata": {},
   "source": [
    "### Create qbits(0) or qbits(1) and tensor them together"
   ]
  },
  {
   "cell_type": "code",
   "execution_count": 6,
   "id": "ad51b666-c259-4e6f-aa3a-43b185fd4e35",
   "metadata": {},
   "outputs": [
    {
     "name": "stdout",
     "output_type": "stream",
     "text": [
      "q0: [1, 0]\n",
      "q1: [0, 1]\n",
      "Tensor Product: [0, 1, 0, 0]\n"
     ]
    }
   ],
   "source": [
    "# |0> qbit\n",
    "q0 = qbit(0)\n",
    "\n",
    "# |1> qbit\n",
    "q1 = qbit(1)\n",
    "\n",
    "# Tensor product\n",
    "q1_q0 = q0.vtensor(q1)\n",
    "\n",
    "print(\"q0:\", q0)\n",
    "print(\"q1:\", q1)\n",
    "print(\"Tensor Product:\", q1_q0)"
   ]
  },
  {
   "cell_type": "markdown",
   "id": "6359fb1a-0df2-43b4-943f-ffdf3e73afb9",
   "metadata": {},
   "source": [
    "### Apply H gate to the qbits"
   ]
  },
  {
   "cell_type": "code",
   "execution_count": 7,
   "id": "20e5d41d-c2aa-45b2-8056-e0293804ef3e",
   "metadata": {},
   "outputs": [
    {
     "name": "stdout",
     "output_type": "stream",
     "text": [
      "q3: [0.7071067811865475, 0.7071067811865475]\n",
      "q4: [0.7071067811865475, -0.7071067811865475]\n"
     ]
    }
   ],
   "source": [
    "# Apply H gate to qbits\n",
    "q3 = H_GATE().multiply_vector(q0)\n",
    "q4 = H_GATE().multiply_vector(q1)\n",
    "\n",
    "print(\"q3:\", q3)\n",
    "print(\"q4:\", q4)"
   ]
  },
  {
   "cell_type": "markdown",
   "id": "d0625b82-aa4f-44e7-9264-67cff93c5193",
   "metadata": {},
   "source": [
    "### Initialise qbits"
   ]
  },
  {
   "cell_type": "code",
   "execution_count": 8,
   "id": "4a1f33ca-744a-4c42-b257-78443858d30d",
   "metadata": {},
   "outputs": [
    {
     "data": {
      "text/plain": [
       "[[1, 0], [1, 0], [1, 0]]"
      ]
     },
     "execution_count": 8,
     "metadata": {},
     "output_type": "execute_result"
    }
   ],
   "source": [
    "# Crate register with 3 zeros and 0 ones\n",
    "zeros_ones = (3, 0)\n",
    "num_zeros, num_ones = zeros_ones\n",
    "custom_list = [0] * num_zeros + [1] * num_ones\n",
    "\n",
    "qr = qprogram(num_zeros + num_ones, custom_list)\n",
    "qr"
   ]
  },
  {
   "cell_type": "markdown",
   "id": "9f7f2344-4a68-44ce-a2ab-cb046557a5fa",
   "metadata": {},
   "source": [
    "### Add gates to program and run"
   ]
  },
  {
   "cell_type": "code",
   "execution_count": 9,
   "id": "fc8bf3be-dc42-445f-aaea-d278d14a18d0",
   "metadata": {},
   "outputs": [
    {
     "name": "stdout",
     "output_type": "stream",
     "text": [
      "\n",
      "Quantum Program Gates:\n",
      "Qubit 0: [[0.7071067811865475, 0.7071067811865475]\n",
      "[0.7071067811865475, -0.7071067811865475]\n",
      "]\n",
      "Qubit 1: [[0.7071067811865475, 0.7071067811865475]\n",
      "[0.7071067811865475, -0.7071067811865475]\n",
      "]\n",
      "Qubit 2: [[0.7071067811865475, 0.7071067811865475]\n",
      "[0.7071067811865475, -0.7071067811865475]\n",
      "]\n"
     ]
    }
   ],
   "source": [
    "# Add H gates to qbit 0, 1, 2\n",
    "qr.addgates(0, [H_GATE()])\n",
    "qr.addgates(1, [H_GATE()])\n",
    "qr.addgates(2, [H_GATE()])\n",
    "\n",
    "qr.viewgates()"
   ]
  },
  {
   "cell_type": "code",
   "execution_count": 10,
   "id": "d52edf50-6542-421f-a7c8-c95f491cad98",
   "metadata": {},
   "outputs": [
    {
     "data": {
      "image/png": "[encoded data removed]",
      "text/plain": [
       "<Figure size 960x600 with 1 Axes>"
      ]
     },
     "metadata": {},
     "output_type": "display_data"
    },
    {
     "name": "stdout",
     "output_type": "stream",
     "text": [
      "Quantum Program Output: [0.3535533905932737, 0.3535533905932737, 0.3535533905932737, 0.3535533905932737, 0.3535533905932737, 0.3535533905932737, 0.3535533905932737, 0.3535533905932737]\n",
      "qbit states: [[0.7071067811865475, 0.7071067811865475], [0.7071067811865475, 0.7071067811865475], [0.7071067811865475, 0.7071067811865475]]\n"
     ]
    }
   ],
   "source": [
    "# Run program \n",
    "qr.run()\n",
    "print(\"qbit states:\", qr)"
   ]
  }
 ],
 "metadata": {
  "kernelspec": {
   "display_name": "Python 3 (ipykernel)",
   "language": "python",
   "name": "python3"
  },
  "language_info": {
   "codemirror_mode": {
    "name": "ipython",
    "version": 3
   },
   "file_extension": ".py",
   "mimetype": "text/x-python",
   "name": "python",
   "nbconvert_exporter": "python",
   "pygments_lexer": "ipython3",
   "version": "3.11.5"
  }
 },
 "nbformat": 4,
 "nbformat_minor": 5
}
